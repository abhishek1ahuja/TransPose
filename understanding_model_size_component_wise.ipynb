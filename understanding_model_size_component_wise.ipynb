{
 "cells": [
  {
   "cell_type": "code",
   "execution_count": 1,
   "id": "d00a3d3e-9c73-4af3-ad5b-47d3705bf76d",
   "metadata": {},
   "outputs": [],
   "source": [
    "import matplotlib.pyplot as plt"
   ]
  },
  {
   "cell_type": "code",
   "execution_count": 2,
   "id": "c59d9841-d869-4808-9c85-85bd2c889b49",
   "metadata": {},
   "outputs": [
    {
     "data": {
      "text/plain": [
       "Text(0.5, 1.0, 'Size of various blocks in the TransPose model')"
      ]
     },
     "execution_count": 2,
     "metadata": {},
     "output_type": "execute_result"
    },
    {
     "data": {
      "image/png": "[encoded data removed]",
      "text/plain": [
       "<Figure size 432x288 with 1 Axes>"
      ]
     },
     "metadata": {
      "needs_background": "light"
     },
     "output_type": "display_data"
    }
   ],
   "source": [
    "bottleneck_layers_sizes = [84544, 70400, 70400, 379392, 280064, 280064, 280064]\n",
    "plt.scatter(range(1, 1 + len(bottleneck_layers_sizes)), bottleneck_layers_sizes)\n",
    "plt.ylim(0,600000)\n",
    "\n",
    "attention_layer_sizes = [526592] * 4\n",
    "plt.scatter(range(1+len(bottleneck_layers_sizes), 1 + len(bottleneck_layers_sizes) + len(attention_layer_sizes)), attention_layer_sizes)\n",
    "\n",
    "plt.title(\"Size of various blocks in the TransPose model\")"
   ]
  },
  {
   "cell_type": "code",
   "execution_count": 3,
   "id": "8c54594e-2090-407c-bb9b-593c95a0ef84",
   "metadata": {},
   "outputs": [
    {
     "data": {
      "text/plain": [
       "<BarContainer object of 2 artists>"
      ]
     },
     "execution_count": 3,
     "metadata": {},
     "output_type": "execute_result"
    },
    {
     "data": {
      "image/png": "[encoded data removed]",
      "text/plain": [
       "<Figure size 432x288 with 1 Axes>"
      ]
     },
     "metadata": {
      "needs_background": "light"
     },
     "output_type": "display_data"
    }
   ],
   "source": [
    "component_sizes = [sum(bottleneck_layers_sizes), sum(attention_layer_sizes)]\n",
    "plt.bar([1,2],component_sizes)\n"
   ]
  },
  {
   "cell_type": "code",
   "execution_count": 5,
   "id": "37ab7002-c987-42db-a0a5-bca0689018f6",
   "metadata": {},
   "outputs": [
    {
     "data": {
      "text/plain": [
       "0.4068734343743805"
      ]
     },
     "execution_count": 5,
     "metadata": {},
     "output_type": "execute_result"
    }
   ],
   "source": [
    "sum(bottleneck_layers_sizes)/(sum(bottleneck_layers_sizes)+sum(attention_layer_sizes))"
   ]
  },
  {
   "cell_type": "code",
   "execution_count": 4,
   "id": "977bbce0-e4ba-45cc-b1f5-c8bf97ba6034",
   "metadata": {},
   "outputs": [
    {
     "data": {
      "text/plain": [
       "([<matplotlib.patches.Wedge at 0x7b9e93feb820>,\n",
       "  <matplotlib.patches.Wedge at 0x7b9e93febd60>],\n",
       " [Text(0.3172508671951924, 1.0532577496813866, ''),\n",
       "  Text(-0.3172507685820835, -1.053257779384552, '')])"
      ]
     },
     "execution_count": 4,
     "metadata": {},
     "output_type": "execute_result"
    },
    {
     "data": {
      "image/png": "[encoded data removed]",
      "text/plain": [
       "<Figure size 432x288 with 1 Axes>"
      ]
     },
     "metadata": {},
     "output_type": "display_data"
    }
   ],
   "source": [
    "plt.pie(component_sizes)"
   ]
  },
  {
   "cell_type": "code",
   "execution_count": 5,
   "id": "a9ff65c0-662b-489e-a288-4acdfbeeba90",
   "metadata": {},
   "outputs": [
    {
     "data": {
      "text/plain": [
       "337461"
      ]
     },
     "execution_count": 5,
     "metadata": {},
     "output_type": "execute_result"
    }
   ],
   "source": [
    "4735825 - 4398364"
   ]
  },
  {
   "cell_type": "code",
   "execution_count": 6,
   "id": "b0b6763c-36a9-445d-83bc-dbdc0fb3c09b",
   "metadata": {},
   "outputs": [
    {
     "data": {
      "text/plain": [
       "([<matplotlib.patches.Wedge at 0x7b9e93f358e0>,\n",
       "  <matplotlib.patches.Wedge at 0x7b9e93f35e20>,\n",
       "  <matplotlib.patches.Wedge at 0x7b9e93f42340>],\n",
       " [Text(0.6129973902275875, 0.9133642206557946, ''),\n",
       "  Text(-0.6977581926765191, 0.8503725680857762, ''),\n",
       "  Text(-0.31725071927552856, -1.053257794236131, '')])"
      ]
     },
     "execution_count": 6,
     "metadata": {},
     "output_type": "execute_result"
    },
    {
     "data": {
      "image/png": "[encoded data removed]",
      "text/plain": [
       "<Figure size 432x288 with 1 Axes>"
      ]
     },
     "metadata": {},
     "output_type": "display_data"
    }
   ],
   "source": [
    "plt.pie([sum(bottleneck_layers_sizes) - 337461, 337461, sum(attention_layer_sizes)])"
   ]
  },
  {
   "cell_type": "code",
   "execution_count": 7,
   "id": "27b4d3ac-5a4b-41dc-bdae-5bde4d9c0a42",
   "metadata": {},
   "outputs": [
    {
     "data": {
      "text/plain": [
       "0.23354866124817292"
      ]
     },
     "execution_count": 7,
     "metadata": {},
     "output_type": "execute_result"
    }
   ],
   "source": [
    "# ratio of pruned weights vs total weights in conv blocks\n",
    "337461/sum(bottleneck_layers_sizes)"
   ]
  },
  {
   "cell_type": "code",
   "execution_count": 9,
   "id": "3f35fbce-0e3e-4388-a0da-91dbde275046",
   "metadata": {},
   "outputs": [
    {
     "data": {
      "text/plain": [
       "0.09502474589558291"
      ]
     },
     "execution_count": 9,
     "metadata": {},
     "output_type": "execute_result"
    }
   ],
   "source": [
    "337461/(sum(bottleneck_layers_sizes) + sum(attention_layer_sizes))"
   ]
  },
  {
   "cell_type": "code",
   "execution_count": 10,
   "id": "e2b6949c-b088-46c9-8d35-be192f773838",
   "metadata": {},
   "outputs": [
    {
     "data": {
      "text/plain": [
       "1444928"
      ]
     },
     "execution_count": 10,
     "metadata": {},
     "output_type": "execute_result"
    }
   ],
   "source": [
    "sum(bottleneck_layers_sizes)"
   ]
  },
  {
   "cell_type": "code",
   "execution_count": 8,
   "id": "ead5576d-0dbd-42c9-998a-48d27b2eb4e1",
   "metadata": {},
   "outputs": [
    {
     "data": {
      "text/plain": [
       "([<matplotlib.patches.Wedge at 0x7b9e93ef9d90>,\n",
       "  <matplotlib.patches.Wedge at 0x7b9e93f08310>],\n",
       " [Text(-0.8169612540345162, 0.7365964359174911, ''),\n",
       "  Text(0.8169612885170832, -0.736596397672774, '')])"
      ]
     },
     "execution_count": 8,
     "metadata": {},
     "output_type": "execute_result"
    },
    {
     "data": {
      "image/png": "[encoded data removed]",
      "text/plain": [
       "<Figure size 432x288 with 1 Axes>"
      ]
     },
     "metadata": {},
     "output_type": "display_data"
    }
   ],
   "source": [
    "plt.pie([sum(bottleneck_layers_sizes) - 337461, 337461])"
   ]
  },
  {
   "cell_type": "code",
   "execution_count": null,
   "id": "570a5078-bdaa-400f-bb27-0ba78cd63a23",
   "metadata": {},
   "outputs": [],
   "source": [
    "sum(bottle"
   ]
  }
 ],
 "metadata": {
  "kernelspec": {
   "display_name": "Python 3",
   "language": "python",
   "name": "python3"
  },
  "language_info": {
   "codemirror_mode": {
    "name": "ipython",
    "version": 3
   },
   "file_extension": ".py",
   "mimetype": "text/x-python",
   "name": "python",
   "nbconvert_exporter": "python",
   "pygments_lexer": "ipython3",
   "version": "3.9.16"
  }
 },
 "nbformat": 4,
 "nbformat_minor": 5
}
