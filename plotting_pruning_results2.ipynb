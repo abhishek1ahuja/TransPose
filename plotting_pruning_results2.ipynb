{
 "cells": [
  {
   "cell_type": "markdown",
   "id": "27dc5d5c-4df2-4d63-b4c9-b6b736873c50",
   "metadata": {},
   "source": [
    "## What does this notebook do?\n",
    "\n",
    "This is a plot of Pruning experiment 1 - 2 rounds of finetuning with sparsity 0.4 in each round\n",
    "- "
   ]
  },
  {
   "cell_type": "code",
   "execution_count": 1,
   "id": "2df8e6d2-d604-4594-ae8b-862339634c2c",
   "metadata": {},
   "outputs": [],
   "source": [
    "import matplotlib.pyplot as plt"
   ]
  },
  {
   "cell_type": "code",
   "execution_count": 2,
   "id": "5712e602-d1c6-4e84-9590-6c4a36ed6c40",
   "metadata": {},
   "outputs": [],
   "source": [
    "import pandas as pd"
   ]
  },
  {
   "cell_type": "code",
   "execution_count": 3,
   "id": "4497c5a6-c54d-4a01-bbe5-3463bfda873d",
   "metadata": {},
   "outputs": [],
   "source": [
    "finetune1_csv_path = \"output/coco/transpose_r_chsel/finetune1_tensorboardcsv/csv.csv\"\n",
    "finetune2_csv_path = \"output/coco/transpose_r_chsel/finetune2_tensorboardcsv/csv.csv\"\n",
    "finetune_1_acc = pd.read_csv(finetune1_csv_path)\n",
    "finetune_2_acc = pd.read_csv(finetune2_csv_path)\n"
   ]
  },
  {
   "cell_type": "code",
   "execution_count": 4,
   "id": "7a59b2c9-5610-4428-8d06-bfab327f1f04",
   "metadata": {},
   "outputs": [
    {
     "data": {
      "text/html": [
       "<div>\n",
       "<style scoped>\n",
       "    .dataframe tbody tr th:only-of-type {\n",
       "        vertical-align: middle;\n",
       "    }\n",
       "\n",
       "    .dataframe tbody tr th {\n",
       "        vertical-align: top;\n",
       "    }\n",
       "\n",
       "    .dataframe thead th {\n",
       "        text-align: right;\n",
       "    }\n",
       "</style>\n",
       "<table border=\"1\" class=\"dataframe\">\n",
       "  <thead>\n",
       "    <tr style=\"text-align: right;\">\n",
       "      <th></th>\n",
       "      <th>Wall time</th>\n",
       "      <th>Step</th>\n",
       "      <th>Value</th>\n",
       "    </tr>\n",
       "  </thead>\n",
       "  <tbody>\n",
       "    <tr>\n",
       "      <th>0</th>\n",
       "      <td>1.718113e+09</td>\n",
       "      <td>0</td>\n",
       "      <td>0.520512</td>\n",
       "    </tr>\n",
       "    <tr>\n",
       "      <th>1</th>\n",
       "      <td>1.718114e+09</td>\n",
       "      <td>1</td>\n",
       "      <td>0.602539</td>\n",
       "    </tr>\n",
       "    <tr>\n",
       "      <th>2</th>\n",
       "      <td>1.718114e+09</td>\n",
       "      <td>2</td>\n",
       "      <td>0.629226</td>\n",
       "    </tr>\n",
       "    <tr>\n",
       "      <th>3</th>\n",
       "      <td>1.718115e+09</td>\n",
       "      <td>3</td>\n",
       "      <td>0.648228</td>\n",
       "    </tr>\n",
       "    <tr>\n",
       "      <th>4</th>\n",
       "      <td>1.718115e+09</td>\n",
       "      <td>4</td>\n",
       "      <td>0.665070</td>\n",
       "    </tr>\n",
       "    <tr>\n",
       "      <th>5</th>\n",
       "      <td>1.718115e+09</td>\n",
       "      <td>5</td>\n",
       "      <td>0.673613</td>\n",
       "    </tr>\n",
       "    <tr>\n",
       "      <th>6</th>\n",
       "      <td>1.718116e+09</td>\n",
       "      <td>6</td>\n",
       "      <td>0.682369</td>\n",
       "    </tr>\n",
       "    <tr>\n",
       "      <th>7</th>\n",
       "      <td>1.718116e+09</td>\n",
       "      <td>7</td>\n",
       "      <td>0.687003</td>\n",
       "    </tr>\n",
       "    <tr>\n",
       "      <th>8</th>\n",
       "      <td>1.718117e+09</td>\n",
       "      <td>8</td>\n",
       "      <td>0.694743</td>\n",
       "    </tr>\n",
       "    <tr>\n",
       "      <th>9</th>\n",
       "      <td>1.718117e+09</td>\n",
       "      <td>9</td>\n",
       "      <td>0.699794</td>\n",
       "    </tr>\n",
       "    <tr>\n",
       "      <th>10</th>\n",
       "      <td>1.718117e+09</td>\n",
       "      <td>10</td>\n",
       "      <td>0.702881</td>\n",
       "    </tr>\n",
       "    <tr>\n",
       "      <th>11</th>\n",
       "      <td>1.718118e+09</td>\n",
       "      <td>11</td>\n",
       "      <td>0.706285</td>\n",
       "    </tr>\n",
       "  </tbody>\n",
       "</table>\n",
       "</div>"
      ],
      "text/plain": [
       "       Wall time  Step     Value\n",
       "0   1.718113e+09     0  0.520512\n",
       "1   1.718114e+09     1  0.602539\n",
       "2   1.718114e+09     2  0.629226\n",
       "3   1.718115e+09     3  0.648228\n",
       "4   1.718115e+09     4  0.665070\n",
       "5   1.718115e+09     5  0.673613\n",
       "6   1.718116e+09     6  0.682369\n",
       "7   1.718116e+09     7  0.687003\n",
       "8   1.718117e+09     8  0.694743\n",
       "9   1.718117e+09     9  0.699794\n",
       "10  1.718117e+09    10  0.702881\n",
       "11  1.718118e+09    11  0.706285"
      ]
     },
     "execution_count": 4,
     "metadata": {},
     "output_type": "execute_result"
    }
   ],
   "source": [
    "finetune_1_acc"
   ]
  },
  {
   "cell_type": "code",
   "execution_count": 5,
   "id": "ed76efca-0e86-4987-bf07-2a1b78000835",
   "metadata": {},
   "outputs": [
    {
     "data": {
      "text/plain": [
       "[<matplotlib.lines.Line2D at 0x7ece8a94fbe0>]"
      ]
     },
     "execution_count": 5,
     "metadata": {},
     "output_type": "execute_result"
    },
    {
     "data": {
      "image/png": "[encoded data removed]",
      "text/plain": [
       "<Figure size 432x288 with 1 Axes>"
      ]
     },
     "metadata": {
      "needs_background": "light"
     },
     "output_type": "display_data"
    }
   ],
   "source": [
    "plt.plot(finetune_1_acc['Step'], finetune_1_acc['Value'])\n",
    "plt.plot(finetune_2_acc['Step']+12, finetune_2_acc['Value'])"
   ]
  },
  {
   "cell_type": "code",
   "execution_count": null,
   "id": "e6f0a44a-aabd-41c4-b256-e22439ad2973",
   "metadata": {},
   "outputs": [],
   "source": []
  },
  {
   "cell_type": "code",
   "execution_count": null,
   "id": "2bbe5c73-e455-4d17-b578-bb7758a66369",
   "metadata": {},
   "outputs": [],
   "source": []
  },
  {
   "cell_type": "code",
   "execution_count": null,
   "id": "6dff87a0-bd13-428a-93b4-7e9339deb797",
   "metadata": {},
   "outputs": [],
   "source": []
  },
  {
   "cell_type": "code",
   "execution_count": null,
   "id": "eab3abe4-8fb5-421b-9834-02f21524ef4e",
   "metadata": {},
   "outputs": [],
   "source": []
  },
  {
   "cell_type": "code",
   "execution_count": null,
   "id": "af408487-17ce-4545-b6f3-bc13e076957e",
   "metadata": {},
   "outputs": [],
   "source": []
  },
  {
   "cell_type": "code",
   "execution_count": null,
   "id": "556d2d8e-3565-4d23-8856-9423f0927abf",
   "metadata": {},
   "outputs": [],
   "source": []
  },
  {
   "cell_type": "code",
   "execution_count": null,
   "id": "419007a1-51ea-4ce1-9564-1a42e974db3d",
   "metadata": {},
   "outputs": [],
   "source": []
  }
 ],
 "metadata": {
  "kernelspec": {
   "display_name": "Python 3",
   "language": "python",
   "name": "python3"
  },
  "language_info": {
   "codemirror_mode": {
    "name": "ipython",
    "version": 3
   },
   "file_extension": ".py",
   "mimetype": "text/x-python",
   "name": "python",
   "nbconvert_exporter": "python",
   "pygments_lexer": "ipython3",
   "version": "3.9.16"
  }
 },
 "nbformat": 4,
 "nbformat_minor": 5
}
