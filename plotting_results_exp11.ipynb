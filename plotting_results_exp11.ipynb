{
 "cells": [
  {
   "cell_type": "code",
   "execution_count": 2,
   "id": "3c11e4b9-648f-4f2e-93d4-32349f62f92e",
   "metadata": {},
   "outputs": [],
   "source": [
    "import matplotlib.pyplot as plt\n",
    "import pandas as pd\n",
    "import os\n",
    "import re\n",
    "import numpy as np"
   ]
  },
  {
   "cell_type": "code",
   "execution_count": 3,
   "id": "78c06f3c-5b99-494f-8439-7c91c7fbf010",
   "metadata": {},
   "outputs": [],
   "source": [
    "import tensorboard as tb\n",
    "from scipy import stats\n",
    "import seaborn as sns"
   ]
  },
  {
   "cell_type": "code",
   "execution_count": 5,
   "id": "125e9525-339a-419e-b32b-f8a0df2a6b33",
   "metadata": {},
   "outputs": [
    {
     "data": {
      "text/plain": [
       "'2.13.0'"
      ]
     },
     "execution_count": 5,
     "metadata": {},
     "output_type": "execute_result"
    }
   ],
   "source": [
    "# tb.__version__"
   ]
  },
  {
   "cell_type": "code",
   "execution_count": 8,
   "id": "fefdecd8-79ca-4e3b-9cf9-fafcf585a434",
   "metadata": {},
   "outputs": [],
   "source": [
    "# from tensorflow.python.summary.summary_iterator import summary_iterator\n"
   ]
  },
  {
   "cell_type": "code",
   "execution_count": 57,
   "id": "fab3cf1d-fcd4-481a-aea1-977fc0d7c9b6",
   "metadata": {},
   "outputs": [],
   "source": [
    "# \"\"\"\n",
    "# code modified from this gist on github: https://gist.github.com/laszukdawid/62656cf7b34cac35b325ba21d46ecfcd\n",
    "# blog post here: https://laszukdawid.com/blog/2021/01/26/parsing-tensorboard-data-locally/\n",
    "# \"\"\"\n",
    "\n",
    "# def convert_tb_data(root_dir, sort_by=None):\n",
    "#     \"\"\"Convert local TensorBoard data into Pandas DataFrame.\n",
    "    \n",
    "#     Function takes the root directory path and recursively parses\n",
    "#     all events data.    \n",
    "#     If the `sort_by` value is provided then it will use that column\n",
    "#     to sort values; typically `wall_time` or `step`.\n",
    "    \n",
    "#     *Note* that the whole data is converted into a DataFrame.\n",
    "#     Depending on the data size this might take a while. If it takes\n",
    "#     too long then narrow it to some sub-directories.\n",
    "    \n",
    "#     Paramters:\n",
    "#         root_dir: (str) path to root dir with tensorboard data.\n",
    "#         sort_by: (optional str) column name to sort by.\n",
    "    \n",
    "#     Returns:\n",
    "#         pandas.DataFrame with [wall_time, name, step, value] columns.\n",
    "    \n",
    "#     \"\"\"\n",
    "\n",
    "#     def convert_tfevent(filepath):\n",
    "#         return pd.DataFrame([\n",
    "#             parse_tfevent(e) for e in summary_iterator(filepath) if len(e.summary.value)\n",
    "#         ])\n",
    "\n",
    "#     def parse_tfevent(tfevent):\n",
    "#         return dict(\n",
    "#             wall_time=tfevent.wall_time,\n",
    "#             name=tfevent.summary.value[0].tag,\n",
    "#             step=tfevent.step,\n",
    "#             value=float(tfevent.summary.value[0].simple_value),\n",
    "#         )\n",
    "    \n",
    "#     columns_order = ['exp_step', 'wall_time', 'name', 'step', 'value']\n",
    "    \n",
    "#     out = []\n",
    "#     for exp_dir in os.listdir(root_dir):\n",
    "#         exp_dir_path = os.path.join(root_dir, exp_dir)\n",
    "#         # print(exp_dir_path)\n",
    "#         # print(\"all: \", os.listdir(exp_dir_path))\n",
    "#         filenames = list(filter(lambda x: os.path.isfile(os.path.join(exp_dir_path, x)), os.listdir(exp_dir_path)))\n",
    "#         # print(\"filtered: \", filenames)\n",
    "#         for filename in filenames:\n",
    "#             # print(filename)\n",
    "#             if \"events.out.tfevents\" not in filename:\n",
    "#                 continue\n",
    "#             file_full_path = os.path.join(root_dir, exp_dir, filename)\n",
    "#             file_df = convert_tfevent(file_full_path)\n",
    "#             file_df['exp_step'] = exp_dir\n",
    "#             out.append(file_df)\n",
    "#     # print(out)\n",
    "\n",
    "#     # Concatenate (and sort) all partial individual dataframes\n",
    "#     all_df = pd.concat(out)[columns_order]\n",
    "#     if sort_by is not None:\n",
    "#         all_df = all_df.sort_values(sort_by)\n",
    "        \n",
    "#     return all_df.reset_index(drop=True)\n",
    "\n"
   ]
  },
  {
   "cell_type": "code",
   "execution_count": 78,
   "id": "2e2f36fb-4fc6-460f-ac48-b5ffd76ed265",
   "metadata": {},
   "outputs": [
    {
     "name": "stdout",
     "output_type": "stream",
     "text": [
      "                                   exp_step     wall_time        name  step  \\\n",
      "0      exp9_step1_finetune_2024-07-30-12-39  1.722343e+09  train_loss     0   \n",
      "1      exp9_step1_finetune_2024-07-30-12-39  1.722343e+09   train_acc     0   \n",
      "2      exp9_step1_finetune_2024-07-30-12-39  1.722343e+09  train_loss     1   \n",
      "3      exp9_step1_finetune_2024-07-30-12-39  1.722343e+09   train_acc     1   \n",
      "4      exp9_step1_finetune_2024-07-30-12-39  1.722343e+09  train_loss     2   \n",
      "...                                     ...           ...         ...   ...   \n",
      "3595  exp9_step6_scalingBN_2024-08-05-11-12  1.722857e+09   train_acc    55   \n",
      "3596  exp9_step6_scalingBN_2024-08-05-11-12  1.722857e+09  train_loss    56   \n",
      "3597  exp9_step6_scalingBN_2024-08-05-11-12  1.722857e+09   train_acc    56   \n",
      "3598  exp9_step6_scalingBN_2024-08-05-11-12  1.722857e+09  valid_loss     2   \n",
      "3599  exp9_step6_scalingBN_2024-08-05-11-12  1.722857e+09   valid_acc     2   \n",
      "\n",
      "         value  \n",
      "0     0.001312  \n",
      "1     0.282913  \n",
      "2     0.000814  \n",
      "3     0.351961  \n",
      "4     0.001008  \n",
      "...        ...  \n",
      "3595  0.831373  \n",
      "3596  0.000431  \n",
      "3597  0.762605  \n",
      "3598  0.000409  \n",
      "3599  0.784047  \n",
      "\n",
      "[3600 rows x 5 columns]\n"
     ]
    }
   ],
   "source": [
    "\n",
    "# dir_path = \"log/coco/transpose_r_mod/osiris/exp9/\"\n",
    "# # exp_name = \"exp9_step1_scalingBN_2024-07-30-11-22\"\n",
    "# exp_name = \"\"\n",
    "# df = convert_tb_data(f\"{dir_path}/{exp_name}\")\n",
    "\n",
    "# print(df)"
   ]
  },
  {
   "cell_type": "code",
   "execution_count": 7,
   "id": "171e318e-d6bd-4ee7-bc5a-2309a4f52587",
   "metadata": {},
   "outputs": [],
   "source": [
    "exp11_res = pd.read_csv(\"exp11_results.csv\", index_col=0)"
   ]
  },
  {
   "cell_type": "code",
   "execution_count": 8,
   "id": "05b9c652-eb2f-4d35-85ef-ac521adea9a6",
   "metadata": {},
   "outputs": [
    {
     "data": {
      "text/html": [
       "<div>\n",
       "<style scoped>\n",
       "    .dataframe tbody tr th:only-of-type {\n",
       "        vertical-align: middle;\n",
       "    }\n",
       "\n",
       "    .dataframe tbody tr th {\n",
       "        vertical-align: top;\n",
       "    }\n",
       "\n",
       "    .dataframe thead th {\n",
       "        text-align: right;\n",
       "    }\n",
       "</style>\n",
       "<table border=\"1\" class=\"dataframe\">\n",
       "  <thead>\n",
       "    <tr style=\"text-align: right;\">\n",
       "      <th></th>\n",
       "      <th>exp_step</th>\n",
       "      <th>wall_time</th>\n",
       "      <th>name</th>\n",
       "      <th>step</th>\n",
       "      <th>value</th>\n",
       "    </tr>\n",
       "  </thead>\n",
       "  <tbody>\n",
       "    <tr>\n",
       "      <th>0</th>\n",
       "      <td>exp11_step1_finetune_2024-08-06-16-38</td>\n",
       "      <td>1.722962e+09</td>\n",
       "      <td>train_loss</td>\n",
       "      <td>0</td>\n",
       "      <td>0.001707</td>\n",
       "    </tr>\n",
       "    <tr>\n",
       "      <th>1</th>\n",
       "      <td>exp11_step1_finetune_2024-08-06-16-38</td>\n",
       "      <td>1.722962e+09</td>\n",
       "      <td>train_acc</td>\n",
       "      <td>0</td>\n",
       "      <td>0.241737</td>\n",
       "    </tr>\n",
       "    <tr>\n",
       "      <th>2</th>\n",
       "      <td>exp11_step1_finetune_2024-08-06-16-38</td>\n",
       "      <td>1.722962e+09</td>\n",
       "      <td>train_loss</td>\n",
       "      <td>1</td>\n",
       "      <td>0.000772</td>\n",
       "    </tr>\n",
       "    <tr>\n",
       "      <th>3</th>\n",
       "      <td>exp11_step1_finetune_2024-08-06-16-38</td>\n",
       "      <td>1.722962e+09</td>\n",
       "      <td>train_acc</td>\n",
       "      <td>1</td>\n",
       "      <td>0.207843</td>\n",
       "    </tr>\n",
       "    <tr>\n",
       "      <th>4</th>\n",
       "      <td>exp11_step1_finetune_2024-08-06-16-38</td>\n",
       "      <td>1.722962e+09</td>\n",
       "      <td>train_loss</td>\n",
       "      <td>2</td>\n",
       "      <td>0.000799</td>\n",
       "    </tr>\n",
       "    <tr>\n",
       "      <th>...</th>\n",
       "      <td>...</td>\n",
       "      <td>...</td>\n",
       "      <td>...</td>\n",
       "      <td>...</td>\n",
       "      <td>...</td>\n",
       "    </tr>\n",
       "    <tr>\n",
       "      <th>3595</th>\n",
       "      <td>exp11_step6_scalingBN_2024-08-07-01-43</td>\n",
       "      <td>1.722995e+09</td>\n",
       "      <td>train_acc</td>\n",
       "      <td>55</td>\n",
       "      <td>0.467367</td>\n",
       "    </tr>\n",
       "    <tr>\n",
       "      <th>3596</th>\n",
       "      <td>exp11_step6_scalingBN_2024-08-07-01-43</td>\n",
       "      <td>1.722995e+09</td>\n",
       "      <td>train_loss</td>\n",
       "      <td>56</td>\n",
       "      <td>0.000498</td>\n",
       "    </tr>\n",
       "    <tr>\n",
       "      <th>3597</th>\n",
       "      <td>exp11_step6_scalingBN_2024-08-07-01-43</td>\n",
       "      <td>1.722995e+09</td>\n",
       "      <td>train_acc</td>\n",
       "      <td>56</td>\n",
       "      <td>0.521148</td>\n",
       "    </tr>\n",
       "    <tr>\n",
       "      <th>3598</th>\n",
       "      <td>exp11_step6_scalingBN_2024-08-07-01-43</td>\n",
       "      <td>1.722995e+09</td>\n",
       "      <td>valid_loss</td>\n",
       "      <td>2</td>\n",
       "      <td>0.000495</td>\n",
       "    </tr>\n",
       "    <tr>\n",
       "      <th>3599</th>\n",
       "      <td>exp11_step6_scalingBN_2024-08-07-01-43</td>\n",
       "      <td>1.722995e+09</td>\n",
       "      <td>valid_acc</td>\n",
       "      <td>2</td>\n",
       "      <td>0.724338</td>\n",
       "    </tr>\n",
       "  </tbody>\n",
       "</table>\n",
       "<p>3600 rows × 5 columns</p>\n",
       "</div>"
      ],
      "text/plain": [
       "                                    exp_step     wall_time        name  step  \\\n",
       "0      exp11_step1_finetune_2024-08-06-16-38  1.722962e+09  train_loss     0   \n",
       "1      exp11_step1_finetune_2024-08-06-16-38  1.722962e+09   train_acc     0   \n",
       "2      exp11_step1_finetune_2024-08-06-16-38  1.722962e+09  train_loss     1   \n",
       "3      exp11_step1_finetune_2024-08-06-16-38  1.722962e+09   train_acc     1   \n",
       "4      exp11_step1_finetune_2024-08-06-16-38  1.722962e+09  train_loss     2   \n",
       "...                                      ...           ...         ...   ...   \n",
       "3595  exp11_step6_scalingBN_2024-08-07-01-43  1.722995e+09   train_acc    55   \n",
       "3596  exp11_step6_scalingBN_2024-08-07-01-43  1.722995e+09  train_loss    56   \n",
       "3597  exp11_step6_scalingBN_2024-08-07-01-43  1.722995e+09   train_acc    56   \n",
       "3598  exp11_step6_scalingBN_2024-08-07-01-43  1.722995e+09  valid_loss     2   \n",
       "3599  exp11_step6_scalingBN_2024-08-07-01-43  1.722995e+09   valid_acc     2   \n",
       "\n",
       "         value  \n",
       "0     0.001707  \n",
       "1     0.241737  \n",
       "2     0.000772  \n",
       "3     0.207843  \n",
       "4     0.000799  \n",
       "...        ...  \n",
       "3595  0.467367  \n",
       "3596  0.000498  \n",
       "3597  0.521148  \n",
       "3598  0.000495  \n",
       "3599  0.724338  \n",
       "\n",
       "[3600 rows x 5 columns]"
      ]
     },
     "execution_count": 8,
     "metadata": {},
     "output_type": "execute_result"
    }
   ],
   "source": [
    "exp11_res"
   ]
  },
  {
   "cell_type": "code",
   "execution_count": 9,
   "id": "59322f75-5b33-48b1-8622-82c1efe3a624",
   "metadata": {},
   "outputs": [
    {
     "data": {
      "text/plain": [
       "array(['exp11_step1_finetune_2024-08-06-16-38',\n",
       "       'exp11_step1_scalingBN_2024-08-06-16-24',\n",
       "       'exp11_step2_finetune_2024-08-06-20-24',\n",
       "       'exp11_step2_scalingBN_2024-08-06-20-12',\n",
       "       'exp11_step3_finetune_2024-08-06-21-21',\n",
       "       'exp11_step3_scalingBN_2024-08-06-20-58',\n",
       "       'exp11_step4_finetune_2024-08-07-00-25',\n",
       "       'exp11_step4_scalingBN_2024-08-07-00-15',\n",
       "       'exp11_step5_finetune_2024-08-07-01-09',\n",
       "       'exp11_step5_scalingBN_2024-08-07-00-58',\n",
       "       'exp11_step6_finetune_2024-08-07-01-52',\n",
       "       'exp11_step6_scalingBN_2024-08-07-01-43'], dtype=object)"
      ]
     },
     "execution_count": 9,
     "metadata": {},
     "output_type": "execute_result"
    }
   ],
   "source": [
    "pd.unique(exp11_res['exp_step'])"
   ]
  },
  {
   "cell_type": "code",
   "execution_count": 10,
   "id": "dfd1abd6-4289-4c82-9cef-194d8205269b",
   "metadata": {},
   "outputs": [
    {
     "data": {
      "text/plain": [
       "array(['train_loss', 'train_acc', 'valid_loss', 'valid_acc'], dtype=object)"
      ]
     },
     "execution_count": 10,
     "metadata": {},
     "output_type": "execute_result"
    }
   ],
   "source": [
    "pd.unique(exp11_res[\"name\"])"
   ]
  },
  {
   "cell_type": "code",
   "execution_count": 11,
   "id": "e8b5a3e6-2346-4d2c-97a3-e0494b010ccf",
   "metadata": {},
   "outputs": [
    {
     "name": "stdout",
     "output_type": "stream",
     "text": [
      "57\n",
      "228\n",
      "57\n",
      "228\n",
      "57\n",
      "228\n",
      "57\n",
      "228\n",
      "57\n",
      "228\n",
      "57\n",
      "228\n"
     ]
    },
    {
     "data": {
      "image/png": "[encoded data removed]",
      "text/plain": [
       "<Figure size 432x288 with 1 Axes>"
      ]
     },
     "metadata": {
      "needs_background": "light"
     },
     "output_type": "display_data"
    }
   ],
   "source": [
    "offset = 0\n",
    "exp_num = \"exp11\"\n",
    "for step in range(1,7):\n",
    "    for stage in [\"scalingBN\", \"finetune\"]:\n",
    "        train_acc = exp11_res[exp11_res.exp_step.str.contains(f\"{exp_num}_step{step}_{stage}\")]\n",
    "        train_acc = train_acc[train_acc.name == \"train_acc\"]\n",
    "        \n",
    "        \n",
    "        plt.plot(train_acc.step/(228/12.0) + offset, train_acc.value, color=\"orange\")\n",
    "        if stage == 'scalingBN':\n",
    "            offset += 3\n",
    "        elif stage == 'finetune':\n",
    "            offset += 12\n",
    "        print(len(train_acc))\n",
    "        plt.vlines([offset], 0,1, linestyles='dashed')\n"
   ]
  },
  {
   "cell_type": "code",
   "execution_count": null,
   "id": "51934e48-9d90-475d-ac88-e0c8691ab973",
   "metadata": {},
   "outputs": [],
   "source": []
  },
  {
   "cell_type": "code",
   "execution_count": 12,
   "id": "cb60861e-8273-4086-bd09-eed80e82a5cf",
   "metadata": {},
   "outputs": [
    {
     "name": "stdout",
     "output_type": "stream",
     "text": [
      "3\n",
      "12\n",
      "3\n",
      "12\n",
      "3\n",
      "12\n",
      "3\n",
      "12\n",
      "3\n",
      "12\n",
      "3\n",
      "12\n"
     ]
    },
    {
     "data": {
      "image/png": "[encoded data removed]",
      "text/plain": [
       "<Figure size 432x288 with 1 Axes>"
      ]
     },
     "metadata": {
      "needs_background": "light"
     },
     "output_type": "display_data"
    }
   ],
   "source": [
    "offset = 0\n",
    "exp_num = \"exp11\"\n",
    "for step in range(1,7):\n",
    "    for stage in [\"scalingBN\", \"finetune\"]:\n",
    "        train_acc = exp11_res[exp11_res.exp_step.str.contains(f\"{exp_num}_step{step}_{stage}\")]\n",
    "        train_acc = train_acc[train_acc.name == \"valid_acc\"]\n",
    "        \n",
    "        \n",
    "        plt.plot(train_acc.step + offset, train_acc.value)\n",
    "        offset += len(train_acc)\n",
    "        print(len(train_acc))\n",
    "        # plt.vlines([offset], 0,1, linestyles='dashed')"
   ]
  },
  {
   "cell_type": "code",
   "execution_count": 16,
   "id": "858a87de-a9ca-4b18-8fab-f6fc99bfc9d6",
   "metadata": {},
   "outputs": [
    {
     "name": "stdout",
     "output_type": "stream",
     "text": [
      "57\n",
      "228\n",
      "57\n",
      "228\n",
      "57\n",
      "228\n",
      "57\n",
      "228\n",
      "57\n",
      "228\n",
      "57\n",
      "228\n",
      "3\n",
      "12\n",
      "3\n",
      "12\n",
      "3\n",
      "12\n",
      "3\n",
      "12\n",
      "3\n",
      "12\n",
      "3\n",
      "12\n"
     ]
    },
    {
     "data": {
      "image/png": "[encoded data removed]",
      "text/plain": [
       "<Figure size 432x288 with 1 Axes>"
      ]
     },
     "metadata": {
      "needs_background": "light"
     },
     "output_type": "display_data"
    }
   ],
   "source": [
    "offset = 0\n",
    "exp_num = \"exp11\"\n",
    "for step in range(1,7):\n",
    "    for stage in [\"scalingBN\", \"finetune\"]:\n",
    "        train_acc = exp11_res[exp11_res.exp_step.str.contains(f\"{exp_num}_step{step}_{stage}\")]\n",
    "        train_acc = train_acc[train_acc.name == \"train_acc\"]\n",
    "        \n",
    "        \n",
    "        plt.plot(train_acc.step/(228/12.0) + offset, train_acc.value, color=\"orange\")\n",
    "        if stage == 'scalingBN':\n",
    "            offset += 3\n",
    "        elif stage == 'finetune':\n",
    "            offset += 12\n",
    "        print(len(train_acc))\n",
    "        plt.vlines([offset], 0,1, linestyles='dashed')\n",
    "\n",
    "\n",
    "offset = 0\n",
    "# exp_num = \"exp9\"\n",
    "for step in range(1,7):\n",
    "    for stage in [\"scalingBN\", \"finetune\"]:\n",
    "        val_acc = exp11_res[exp11_res.exp_step.str.contains(f\"{exp_num}_step{step}_{stage}\")]\n",
    "        val_acc = val_acc[val_acc.name == \"valid_acc\"]\n",
    "        \n",
    "        \n",
    "        plt.plot(val_acc.step + offset, val_acc.value, color = 'blue')\n",
    "        offset += len(val_acc)\n",
    "        print(len(val_acc))\n",
    "        # plt.vlines([offset], 0,1, linestyles='dashed')"
   ]
  },
  {
   "cell_type": "code",
   "execution_count": 19,
   "id": "17fea00b-e3d2-44f5-91b0-4237077e7627",
   "metadata": {},
   "outputs": [
    {
     "data": {
      "text/plain": [
       "array(['exp11_step1_finetune_2024-08-06-16-38',\n",
       "       'exp11_step1_scalingBN_2024-08-06-16-24',\n",
       "       'exp11_step2_finetune_2024-08-06-20-24',\n",
       "       'exp11_step2_scalingBN_2024-08-06-20-12',\n",
       "       'exp11_step3_finetune_2024-08-06-21-21',\n",
       "       'exp11_step3_scalingBN_2024-08-06-20-58',\n",
       "       'exp11_step4_finetune_2024-08-07-00-25',\n",
       "       'exp11_step4_scalingBN_2024-08-07-00-15',\n",
       "       'exp11_step5_finetune_2024-08-07-01-09',\n",
       "       'exp11_step5_scalingBN_2024-08-07-00-58',\n",
       "       'exp11_step6_finetune_2024-08-07-01-52',\n",
       "       'exp11_step6_scalingBN_2024-08-07-01-43'], dtype=object)"
      ]
     },
     "execution_count": 19,
     "metadata": {},
     "output_type": "execute_result"
    }
   ],
   "source": [
    "pd.unique(exp11_res['exp_step'])"
   ]
  },
  {
   "cell_type": "code",
   "execution_count": 45,
   "id": "bd331bd1-a067-4e61-b814-3007cf06388c",
   "metadata": {},
   "outputs": [
    {
     "name": "stdout",
     "output_type": "stream",
     "text": [
      "479    0.781979\n",
      "Name: value, dtype: float64\n",
      "1079    0.768418\n",
      "Name: value, dtype: float64\n",
      "1679    0.753386\n",
      "Name: value, dtype: float64\n",
      "2279    0.736279\n",
      "Name: value, dtype: float64\n",
      "2879    0.726515\n",
      "Name: value, dtype: float64\n",
      "3479    0.717818\n",
      "Name: value, dtype: float64\n"
     ]
    }
   ],
   "source": [
    "exp11_val_acc = [0.75]\n",
    "for step in range(1,7):\n",
    "    for stage in [\"finetune\"]:\n",
    "        val_acc = exp11_res[exp11_res.exp_step.str.contains(f\"{exp_num}_step{step}_{stage}\")]\n",
    "        val_acc = val_acc[val_acc.name == \"valid_acc\"]\n",
    "        print(val_acc['value'][-1:])\n",
    "        exp11_val_acc.append(val_acc['value'][-1:].to_numpy()[0])"
   ]
  },
  {
   "cell_type": "code",
   "execution_count": 48,
   "id": "8ebaecf6-2c68-4ee8-b49e-5d4ec3b23d4d",
   "metadata": {},
   "outputs": [
    {
     "data": {
      "text/plain": [
       "[0.75,\n",
       " 0.7819785475730896,\n",
       " 0.7684178352355957,\n",
       " 0.7533857822418213,\n",
       " 0.7362790703773499,\n",
       " 0.7265152335166931,\n",
       " 0.7178179025650024]"
      ]
     },
     "execution_count": 48,
     "metadata": {},
     "output_type": "execute_result"
    }
   ],
   "source": [
    "exp11_val_acc"
   ]
  },
  {
   "cell_type": "code",
   "execution_count": 47,
   "id": "9bedb57f-3e65-4451-9c52-d5e40b21be9a",
   "metadata": {},
   "outputs": [],
   "source": [
    "exp11_model_size_iter = [4735825, 4298454, 4010658, 3826460, 3700224, 3625026, 3577084]"
   ]
  },
  {
   "cell_type": "code",
   "execution_count": 49,
   "id": "234fd7c0-ee1a-4efd-883a-41a22dea1060",
   "metadata": {},
   "outputs": [],
   "source": [
    "exp11_sparsity = []\n",
    "for i in range(len(exp11_model_size_iter)):\n",
    "    exp11_sparsity.append(1 - exp11_model_size_iter[i] / exp11_model_size_iter[0])\n"
   ]
  },
  {
   "cell_type": "code",
   "execution_count": 50,
   "id": "f503b4f1-0f26-4231-b590-e70a136a4052",
   "metadata": {},
   "outputs": [
    {
     "data": {
      "text/plain": [
       "Text(0.5, 1.0, 'Performance vs Sparsity - strategy 1 and 2')"
      ]
     },
     "execution_count": 50,
     "metadata": {},
     "output_type": "execute_result"
    },
    {
     "data": {
      "image/png": "[encoded data removed]",
      "text/plain": [
       "<Figure size 720x504 with 1 Axes>"
      ]
     },
     "metadata": {
      "needs_background": "light"
     },
     "output_type": "display_data"
    }
   ],
   "source": [
    "fig, axs = plt.subplots(figsize=(10,7))\n",
    "# axs.scatter(exp4_sparsity, exp4_model_acc_iter, label=\"strategy 1\")\n",
    "# axs.plot(exp4_sparsity, exp4_model_acc_iter)\n",
    "axs.scatter(exp11_sparsity, exp11_val_acc, label=\"strategy 2\")\n",
    "axs.plot(exp11_sparsity, exp11_val_acc)\n",
    "axs.legend()\n",
    "axs.set_ylabel(\"Validation Accuracy\")\n",
    "axs.set_xlabel(\"Sparsity\")\n",
    "axs.set_title(\"Performance vs Sparsity - strategy 1 and 2\")"
   ]
  },
  {
   "cell_type": "code",
   "execution_count": 52,
   "id": "e99f8bd1-0374-4e34-9b83-000f045fa2f7",
   "metadata": {},
   "outputs": [
    {
     "data": {
      "text/plain": [
       "([0.0,\n",
       "  0.09235370817122679,\n",
       "  0.15312369017013927,\n",
       "  0.19201828614866467,\n",
       "  0.2186738319089071,\n",
       "  0.2345523747182381,\n",
       "  0.24467563729656394],\n",
       " [0.75,\n",
       "  0.7819785475730896,\n",
       "  0.7684178352355957,\n",
       "  0.7533857822418213,\n",
       "  0.7362790703773499,\n",
       "  0.7265152335166931,\n",
       "  0.7178179025650024])"
      ]
     },
     "execution_count": 52,
     "metadata": {},
     "output_type": "execute_result"
    }
   ],
   "source": [
    "exp11_sparsity, exp11_val_acc"
   ]
  },
  {
   "cell_type": "code",
   "execution_count": null,
   "id": "6773332f-a8ec-4d52-95cd-a00198d6b1e4",
   "metadata": {},
   "outputs": [],
   "source": []
  }
 ],
 "metadata": {
  "kernelspec": {
   "display_name": "Python 3",
   "language": "python",
   "name": "python3"
  },
  "language_info": {
   "codemirror_mode": {
    "name": "ipython",
    "version": 3
   },
   "file_extension": ".py",
   "mimetype": "text/x-python",
   "name": "python",
   "nbconvert_exporter": "python",
   "pygments_lexer": "ipython3",
   "version": "3.9.16"
  }
 },
 "nbformat": 4,
 "nbformat_minor": 5
}
